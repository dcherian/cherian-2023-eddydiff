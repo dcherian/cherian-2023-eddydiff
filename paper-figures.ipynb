{
 "cells": [
  {
   "cell_type": "markdown",
   "id": "97bcbe27-aec5-4961-9181-9404aa99a94c",
   "metadata": {},
   "source": [
    "# Paper figures"
   ]
  },
  {
   "cell_type": "code",
   "execution_count": null,
   "id": "61e53f10-d277-45b9-8202-37487395e1f7",
   "metadata": {
    "tags": []
   },
   "outputs": [],
   "source": [
    "%load_ext autoreload\n",
    "%load_ext watermark\n",
    "\n",
    "import cf_xarray.units\n",
    "import dcpy\n",
    "import eddydiff as ed\n",
    "import matplotlib as mpl\n",
    "import matplotlib.pyplot as plt\n",
    "import numpy as np\n",
    "import xarray as xr\n",
    "\n",
    "%aimport eddydiff\n",
    "import xgcm\n",
    "from datatree import DataTree\n",
    "\n",
    "plt.style.use(\"ggplot\")\n",
    "xr.set_options(keep_attrs=True)\n",
    "\n",
    "%watermark -iv"
   ]
  },
  {
   "cell_type": "code",
   "execution_count": null,
   "id": "96c2e0d1-ec91-4e6b-9578-276ca782d3a5",
   "metadata": {
    "tags": []
   },
   "outputs": [],
   "source": [
    "plt.rcParams[\"figure.dpi\"] = 140\n",
    "plt.rcParams[\"figure.facecolor\"] = \"none\"  # (0.91, 0.91, 0.91)\n",
    "plt.rcParams[\"axes.facecolor\"] = (0.99,) * 3\n",
    "plt.rcParams.update(\n",
    "    {\n",
    "        \"axes.spines.top\": True,\n",
    "        \"axes.spines.bottom\": True,\n",
    "        \"axes.spines.left\": True,\n",
    "        \"axes.spines.right\": True,\n",
    "        \"axes.edgecolor\": (0.31,) * 3,\n",
    "        \"axes.grid.which\": \"both\",\n",
    "        \"grid.linewidth\": 0.5,\n",
    "        \"grid.alpha\": 0.3,\n",
    "        \"grid.color\": (0,) * 3,\n",
    "    }\n",
    ")"
   ]
  },
  {
   "cell_type": "code",
   "execution_count": null,
   "id": "da24ee78-ca46-43c3-bd97-d970a03cb15d",
   "metadata": {
    "tags": []
   },
   "outputs": [],
   "source": [
    "mesomicrocolor = \"darkorchid\"\n",
    "hirescolor = \"darkorchid\"\n",
    "spinupcolor = \"r\"\n",
    "spinupendcolor = \"b\"\n",
    "lastcyclecolor = \"deepskyblue\"\n",
    "color_ecco = \"darkorange\"\n",
    "\n",
    "\n",
    "error_kwargs = dict(error=\"x\", ls=\"none\", marker=\".\")"
   ]
  },
  {
   "cell_type": "code",
   "execution_count": null,
   "id": "f1a58b82-0420-453b-a191-d4d68d913075",
   "metadata": {
    "tags": []
   },
   "outputs": [],
   "source": [
    "pop_natre = DataTree()"
   ]
  },
  {
   "cell_type": "markdown",
   "id": "68351136-c74f-497f-ad8b-2cbc6d0f01e9",
   "metadata": {
    "tags": []
   },
   "source": [
    "## Load data"
   ]
  },
  {
   "cell_type": "markdown",
   "id": "30e012b0-4e64-4190-b1dc-f2c1f3f1bbe2",
   "metadata": {},
   "source": [
    "### Isopycnal gradients from Argo climatology\n",
    "\n",
    "Uses methodology of Cole et al (2015) on isopycnal temperature field from Roemmich & Gilson mapped fields\n",
    "\n",
    "(Cole et al provide isopycnal salinity gradient estimates only)."
   ]
  },
  {
   "cell_type": "code",
   "execution_count": null,
   "id": "7b5d16d9-a20a-47f9-9a61-15369d2ee8a2",
   "metadata": {
    "tags": []
   },
   "outputs": [],
   "source": [
    "xr.open_dataset(\"datasets/cole-clim-gradient-natre.nc\")"
   ]
  },
  {
   "cell_type": "code",
   "execution_count": null,
   "id": "d2f80da8-9d4e-43db-b0f5-7080dba388c3",
   "metadata": {
    "tags": []
   },
   "outputs": [],
   "source": [
    "# read, take mean in region; swap to pressure coordinate\n",
    "argograd = (\n",
    "    xr.open_dataset(\"datasets/cole-clim-gradient-natre.nc\")\n",
    "    .reset_coords(\"pres\")\n",
    "    .sel(lat=slice(24, 28), lon=slice(360 - 30, 360 - 25))\n",
    "    .cf.guess_coord_axis()\n",
    ")\n",
    "argograd.lon.attrs[\"axis\"] = \"X\"\n",
    "argograd[\"lon\"] = argograd.lon.cf.guess_coord_axis()\n",
    "argo_delT2_plane = ed.plane_fit_gradient(argograd.CT).assign_coords(\n",
    "    {\"pres\": argograd.pres.mean([\"lon\", \"lat\"])}\n",
    ")\n",
    "argo_delT2_plane.pres.attrs[\"positive\"] = \"down\""
   ]
  },
  {
   "cell_type": "markdown",
   "id": "d09bbc3b-9894-43e5-ae75-f918aaae304c",
   "metadata": {},
   "source": [
    "### Cole et al (2015)\n",
    "\n",
    "See `dataset-processing.ipynb` for details"
   ]
  },
  {
   "cell_type": "code",
   "execution_count": null,
   "id": "89c3ac92-e247-45d4-b529-979cc6796c06",
   "metadata": {
    "tags": []
   },
   "outputs": [],
   "source": [
    "cole = xr.open_dataset(\"datasets/cole-natre.nc\")\n",
    "cole_natre = cole[[\"diffusivity\", \"density_mean_depth\", \"depth_mean_sig\"]].interp(\n",
    "    lat=argograd.lat.data, lon=argograd.lon.data\n",
    ")"
   ]
  },
  {
   "cell_type": "markdown",
   "id": "641dfe5e-a984-45aa-b3dd-5954c6df58e9",
   "metadata": {},
   "source": [
    "Move from sigma to depth space since $K_e$ estimates are in depth space"
   ]
  },
  {
   "cell_type": "code",
   "execution_count": null,
   "id": "7629909f-096b-4a1d-ac07-8678a5b4c0ea",
   "metadata": {
    "tags": []
   },
   "outputs": [],
   "source": [
    "argo_dTiso = xgcm.transform.linear_interpolation(\n",
    "    argograd.dTiso,\n",
    "    argograd.pres,\n",
    "    cole.pres,\n",
    "    \"sigma\",\n",
    "    \"sigma\",\n",
    "    \"pres\",\n",
    ")"
   ]
  },
  {
   "cell_type": "code",
   "execution_count": null,
   "id": "c9a490ea-3723-44a2-9c3d-747be6bb942d",
   "metadata": {
    "tags": []
   },
   "outputs": [],
   "source": [
    "cole_natre[\"RediVar\"] = cole_natre.diffusivity * argo_dTiso**2\n",
    "cole_natre[\"RediVar\"].attrs = {\n",
    "    \"long_name\": \"$K_e^{cole} |∇T_{iso}^{argo}|²$\",\n",
    "    \"units\": \"°C²/s\",\n",
    "}\n",
    "cole_natre = cole_natre.mean([\"lat\", \"lon\"])"
   ]
  },
  {
   "cell_type": "markdown",
   "id": "4efd7030-779d-4d1c-a4ea-eeab69c50198",
   "metadata": {},
   "source": [
    "### Groeskamp et al (2020)"
   ]
  },
  {
   "cell_type": "code",
   "execution_count": null,
   "id": "3cba17e8-6f8f-473c-97b4-80ba4075052d",
   "metadata": {
    "tags": []
   },
   "outputs": [],
   "source": [
    "groeskamp = xr.open_dataset(\"datasets/groeskamp-natre.nc\")\n",
    "groeskamp[\"dTiso\"] = argo_dTiso.interp(pres=groeskamp.pres)\n",
    "groeskamp[\"eddy_var_0\"] = groeskamp[\"Ke_0\"] * groeskamp.dTiso**2\n",
    "groeskamp[\"eddy_var\"] = groeskamp[\"Ke\"] * groeskamp.dTiso**2\n",
    "groeskamp = groeskamp.mean([\"lat\", \"lon\"])"
   ]
  },
  {
   "cell_type": "markdown",
   "id": "d3daa59a-2747-4f69-9812-97d66f8577c1",
   "metadata": {},
   "source": [
    "### NATRE "
   ]
  },
  {
   "cell_type": "code",
   "execution_count": null,
   "id": "637d3ad1-da91-4f99-aa9b-c58896625dbf",
   "metadata": {
    "tags": []
   },
   "outputs": [],
   "source": [
    "micro = xr.load_dataset(\"datasets/natre-density-binned.nc\")\n",
    "micro.pres.attrs[\"bounds\"] = \"pres_err\"\n",
    "\n",
    "# only one bin high up where there is not much eddy stirring signal.\n",
    "micro[\"residual\"] = np.abs(micro.residual)\n",
    "micro[\"residual_err\"] = np.abs(micro.residual_err)"
   ]
  },
  {
   "cell_type": "markdown",
   "id": "08acb449-b1fb-49d3-b35e-0366bfe09490",
   "metadata": {
    "tags": []
   },
   "source": [
    "### POP 1/10° "
   ]
  },
  {
   "cell_type": "markdown",
   "id": "4dc54bfb-be2a-49a0-b90d-5e0102c1e686",
   "metadata": {},
   "source": [
    "#### Variance budget terms (Guo et al, 2022)"
   ]
  },
  {
   "cell_type": "code",
   "execution_count": null,
   "id": "c7399e0d-623d-4d08-92e5-c24cffe40296",
   "metadata": {
    "tags": []
   },
   "outputs": [],
   "source": [
    "pop_hires_natre = (\n",
    "    xr.load_dataset(\"datasets/pop-110-variance-natre.nc\")\n",
    "    .pint.quantify()\n",
    "    .pint.to(\"K**2/s\")\n",
    ")\n",
    "pop_hires_natre"
   ]
  },
  {
   "cell_type": "markdown",
   "id": "10da166b-0266-4c3d-b96a-4f583d8b16e0",
   "metadata": {},
   "source": [
    "#### Climatological fields"
   ]
  },
  {
   "cell_type": "code",
   "execution_count": null,
   "id": "7448d5fa-402d-4834-841c-66b0825666dc",
   "metadata": {
    "tags": []
   },
   "outputs": [],
   "source": [
    "%load_ext autoreload\n",
    "%autoreload\n",
    "\n",
    "pop_hires_clim = (\n",
    "    xr.load_dataset(\"datasets/pop-110-climatology-natre.nc\")\n",
    "    .pint.quantify()\n",
    "    .squeeze(\"cycle\")\n",
    "    .map(dcpy.util.to_base_units)\n",
    ")\n",
    "pop_hires_clim[\"TEMP\"].attrs[\"standard_name\"] = \"sea_water_potential_temperature\"\n",
    "\n",
    "# NOTE: This only adds delT2, and averages in box\n",
    "pop_hires_clim_profile = ed.pop.calc_mean_redivar_profile(pop_hires_clim)\n",
    "\n",
    "\n",
    "pop_hires_clim_profile"
   ]
  },
  {
   "cell_type": "markdown",
   "id": "22dbbc4d-1a08-4a08-b700-2cd65357f519",
   "metadata": {},
   "source": [
    "#### Combine"
   ]
  },
  {
   "cell_type": "code",
   "execution_count": null,
   "id": "fa4b659c-15f1-42d8-a585-a0268eaa7711",
   "metadata": {
    "tags": []
   },
   "outputs": [],
   "source": [
    "pop_natre[\"hires/clim\"] = DataTree(\n",
    "    xr.merge([pop_hires_natre, pop_hires_clim_profile], join=\"exact\")\n",
    ")\n",
    "pop_natre"
   ]
  },
  {
   "cell_type": "markdown",
   "id": "2fdc5252-7398-43bc-bba9-43de60d63823",
   "metadata": {
    "tags": []
   },
   "source": [
    "### POP 1° "
   ]
  },
  {
   "cell_type": "markdown",
   "id": "f7b9a85d-18c7-408f-a7c0-3e73fdda25b8",
   "metadata": {
    "tags": []
   },
   "source": [
    "#### spinup"
   ]
  },
  {
   "cell_type": "code",
   "execution_count": null,
   "id": "47d444b9-3b13-4600-bdd0-5912b775e44d",
   "metadata": {
    "tags": []
   },
   "outputs": [],
   "source": [
    "pop_natre[\"1deg/month1\"] = DataTree(xr.open_dataset(\"datasets/pop-1-month1.nc\"))\n",
    "pop_natre[\"1deg/decadal\"] = DataTree(xr.open_dataset(\"datasets/pop-1-spinup-natre.nc\"))"
   ]
  },
  {
   "cell_type": "markdown",
   "id": "7d9d6fef-bc6f-494f-847b-d93a5dd00d29",
   "metadata": {
    "tags": []
   },
   "source": [
    "### ECCO"
   ]
  },
  {
   "cell_type": "code",
   "execution_count": null,
   "id": "fe2e7769-9c7a-46a5-b14d-59a8fa9c00a0",
   "metadata": {
    "tags": []
   },
   "outputs": [],
   "source": [
    "ecco = xr.open_dataset(\"datasets/ecco-climatology-natre.nc\").set_coords(\"z_σ\")"
   ]
  },
  {
   "cell_type": "markdown",
   "id": "5c5ac08b-8d05-4eb3-afab-40f67179dceb",
   "metadata": {
    "tags": []
   },
   "source": [
    "## Figure 3"
   ]
  },
  {
   "cell_type": "code",
   "execution_count": null,
   "id": "37b02ac6-7701-4956-851a-e0ba1152f6c0",
   "metadata": {
    "tags": [
     "hide-input",
     "full-width"
    ]
   },
   "outputs": [],
   "source": [
    "def plot_pop_natre_meso_micro(ax):\n",
    "    (-1 * pop_natre[\"hires/clim\"][\"DISS\"]).cf.plot(\n",
    "        ax=ax, lw=1.5, color=mesomicrocolor, label=\"POP 1/10° HDIFF\"\n",
    "    )\n",
    "    dcpy.plots.errorbar(\n",
    "        micro,\n",
    "        x=\"residual\",\n",
    "        y=\"pres\",\n",
    "        color=mesomicrocolor,\n",
    "        label=\"FP2005: $⟨χ⟩/2 - K_ρ^m ∂_zθ_m^2$\",\n",
    "        ax=ax,\n",
    "        **error_kwargs,\n",
    "    )\n",
    "\n",
    "\n",
    "f, ax = plt.subplot_mosaic(\n",
    "    [[\"natre\", \"pop-hires\", \"params\"]],\n",
    "    sharey=False,\n",
    "    sharex=True,\n",
    "    constrained_layout=False,\n",
    ")\n",
    "\n",
    "### Mesoscale budget\n",
    "pop_natre[\"hires/clim\"][\"BC\"].cf.plot(\n",
    "    ax=ax[\"pop-hires\"], label=\"POP 1/10° $⟨u_e^h θ_e⟩.∇_hθ_m$\"\n",
    ")\n",
    "np.abs(-1 * pop_natre[\"hires/clim\"][\"PKC\"]).cf.plot(\n",
    "    ax=ax[\"pop-hires\"], label=\"POP 1/10° $-⟨w_eθ_e⟩.∂_zθ_m$\"\n",
    ")\n",
    "# (-1 * pop_natre.VMIX).cf.plot(color=\"sienna\", ax=ax[0], label=\"POP VMIX\")\n",
    "# (-1 * pop_natre.HDIFF).cf.plot(ax=ax[0], label=\"POP HDIFF\", marker=\"x\", ls=\"none\")\n",
    "\n",
    "\n",
    "#################################\n",
    "######## Microscale budget: NATRE\n",
    "#################################\n",
    "dcpy.plots.fill_between_bounds(\n",
    "    micro,\n",
    "    \"KρTz2\",\n",
    "    y=\"pres\",\n",
    "    color=\"k\",\n",
    "    label=\"FP2005: $K_ρ^m ∂_zθ_m^2$\",\n",
    "    ax=ax[\"natre\"],\n",
    ")\n",
    "\n",
    "dcpy.plots.fill_between_bounds(\n",
    "    micro,\n",
    "    \"chib2\",\n",
    "    y=\"pres\",\n",
    "    color=\"C0\",\n",
    "    label=\"FP2005: $⟨χ⟩/2$\",\n",
    "    ax=ax[\"natre\"],\n",
    ")\n",
    "\n",
    "#################################\n",
    "### Parameterizations\n",
    "#################################\n",
    "cole_natre.RediVar.plot(\n",
    "    y=\"pres\", label=\"$K_e^{cole} |∇_hT^{cole}|²$\", color=\"k\", ls=\"--\", ax=ax[\"params\"]\n",
    ")\n",
    "\n",
    "groeskamp.eddy_var.plot(\n",
    "    y=\"pres\",\n",
    "    label=\"$K_e^{G2020} |∇_hT^{cole}|²$\",\n",
    "    color=\"limegreen\",\n",
    "    ls=\"--\",\n",
    "    ax=ax[\"params\"],\n",
    ")\n",
    "\n",
    "#################################\n",
    "### Cleanup\n",
    "#################################\n",
    "for axx in ax.values():\n",
    "    plot_pop_natre_meso_micro(axx)\n",
    "    axx.set_xscale(\"log\")\n",
    "    axx.set_xlabel(\"\")\n",
    "    axx.set_ylim([1850, 350])\n",
    "    axx.set_xlim([1e-11, 1e-8])\n",
    "    axx.xaxis.set_minor_locator(\n",
    "        mpl.ticker.LogLocator(base=10, subs=\"all\", numticks=120)\n",
    "    )\n",
    "    axx.legend(loc=\"upper center\", bbox_to_anchor=(0.5, -0.15))\n",
    "    axx.grid(True, which=\"both\", lw=0.5)\n",
    "\n",
    "    patch = mpl.patches.Rectangle(\n",
    "        (0, 800), 1, 700, transform=axx.get_yaxis_transform(), alpha=0.1, zorder=1\n",
    "    )\n",
    "    axx.add_patch(patch)\n",
    "\n",
    "\n",
    "ax[\"pop-hires\"].set_xlabel(\"Rate of variance production or dissipation [°C²/s]\")\n",
    "ax[\"pop-hires\"].set_title(\"Mesoscale budget: POP2 1/10°\", fontsize=\"medium\")\n",
    "ax[\"natre\"].set_title(\"Microscale budget: FP2005\", fontsize=\"medium\")\n",
    "ax[\"params\"].set_title(\"$K_e$ Parameterizations\", fontsize=\"medium\")\n",
    "\n",
    "\n",
    "dcpy.plots.label_subplots(ax.values(), x=0.03, y=0.95)\n",
    "dcpy.plots.clean_axes(list(ax.values()))\n",
    "f.set_size_inches((8, 5.3))\n",
    "f.savefig(\"images/figure3.pdf\", bbox_inches=\"tight\")\n",
    "f.savefig(\"images/figure3.png\", bbox_inches=\"tight\")"
   ]
  },
  {
   "cell_type": "markdown",
   "id": "e594eee5-7d65-45d9-af2c-dff12ed682e7",
   "metadata": {},
   "source": [
    "## Figure 4"
   ]
  },
  {
   "cell_type": "code",
   "execution_count": null,
   "id": "210c8b28-d40e-4c4b-9a0f-aae0f49d8824",
   "metadata": {
    "tags": [
     "hide-input"
    ]
   },
   "outputs": [],
   "source": [
    "f, axx = plt.subplots(1, 3, sharey=True, constrained_layout=True)\n",
    "ax = dict(zip([\"K\", \"delT2\", \"chi\"], axx))\n",
    "\n",
    "legend_handles = []\n",
    "\n",
    "for pop_, color, label in zip(\n",
    "    [\n",
    "        pop_natre[\"hires/clim\"],\n",
    "        pop_natre[\"1deg/month1\"],\n",
    "        pop_natre[\"1deg/decadal\"].isel(decade=5),\n",
    "    ],\n",
    "    [hirescolor, spinupcolor, spinupendcolor, lastcyclecolor],\n",
    "    [\"POP2 1/10°\", \"POP2 1° month 1\", \"POP2 1° decade 6\"],\n",
    "):\n",
    "    kwargs = dict(\n",
    "        edges=ed.pop.get_edges(pop_.ds), orientation=\"horizontal\", lw=2, color=color\n",
    "    )\n",
    "    ax[\"delT2\"].stairs(np.sqrt(pop_[\"delT2_plane\"].data), **kwargs)\n",
    "    if \"KAPPA_ISOP\" in pop_:\n",
    "        legend_handles.append(ax[\"K\"].stairs(pop_[\"KAPPA_ISOP\"].to_numpy(), **kwargs))\n",
    "        ax[\"chi\"].stairs(pop_[\"RediVar\"].to_numpy(), **kwargs, label=label)\n",
    "\n",
    "# K\n",
    "legend_handles.append(\n",
    "    groeskamp.Ke.cf.plot(\n",
    "        y=\"pres\", ax=ax[\"K\"], color=\"limegreen\", ls=\"--\", label=\"Groeskamp (2020)\"\n",
    "    )\n",
    ")\n",
    "legend_handles.append(\n",
    "    cole_natre.diffusivity.cf.plot(\n",
    "        y=\"pres\", ax=ax[\"K\"], color=\"k\", ls=\"--\", label=\"Cole (2015)\"\n",
    "    )\n",
    ")\n",
    "legend_handles.append(ecco.Ke.cf.plot(y=\"vertical\", ax=ax[\"K\"], color=color_ecco))\n",
    "\n",
    "\n",
    "# ∇T2\n",
    "for data, color, label in zip(\n",
    "    [argo_delT2_plane, ecco.delT2_plane],\n",
    "    [\"k\", color_ecco],\n",
    "    [\"Argo\", \"ECCO Adjusted\"],\n",
    "):\n",
    "    if label == \"MIMOC\":\n",
    "        continue\n",
    "    np.sqrt(data).cf.plot(\n",
    "        y=\"vertical\", ax=ax[\"delT2\"], color=color, label=label, _labels=False\n",
    "    )\n",
    "\n",
    "# χmeso\n",
    "(-1 * pop_natre[\"hires/clim\"][\"DISS\"]).cf.plot(\n",
    "    ax=ax[\"chi\"], lw=2, color=hirescolor, label=\"POP2 1/10°\", _labels=False\n",
    ")\n",
    "(ecco.GM_CHI).sel(node=\"adj\").cf.plot(\n",
    "    ax=ax[\"chi\"],\n",
    "    y=\"vertical\",\n",
    "    lw=2,\n",
    "    color=color_ecco,\n",
    "    label=None,\n",
    "    _labels=False,\n",
    ")\n",
    "\n",
    "dcpy.plots.errorbar(\n",
    "    micro,\n",
    "    x=\"residual\",\n",
    "    y=\"pres\",\n",
    "    color=mesomicrocolor,\n",
    "    label=\"NATRE: $⟨χ⟩/2 - K_ρ^m ∂_zθ_m^2$\",\n",
    "    # lw=2.5,\n",
    "    ax=ax[\"chi\"],\n",
    "    **error_kwargs,\n",
    ")\n",
    "\n",
    "ax[\"K\"].set_title(\"\")\n",
    "ax[\"K\"].set_ylim([3000, 200])\n",
    "ax[\"K\"].set_xlim([0, 2000])\n",
    "ax[\"delT2\"].set_xlim([1e-8, 4e-6])\n",
    "ax[\"chi\"].set_xlim([1e-12, 1e-8])\n",
    "dcpy.plots.clean_axes(axx)\n",
    "\n",
    "for a in axx:\n",
    "    a.xaxis.tick_top()\n",
    "    a.xaxis.set_label_position(\"top\")\n",
    "    patch = mpl.patches.Rectangle(\n",
    "        (0, 800), 1, 700, transform=a.get_yaxis_transform(), alpha=0.1, zorder=1\n",
    "    )\n",
    "    a.add_patch(patch)\n",
    "\n",
    "ax[\"K\"].set_xlabel(\"(a) $K_{e}$ [m$^2$/s]\", labelpad=12)\n",
    "ax[\"delT2\"].set_xlabel(\"(b) $|∇_ρ^hT|$ [C/m]\", labelpad=12)\n",
    "ax[\"chi\"].set_xlabel(\"(c) $χ_{e} = K_{e} |∇_ρ^hT|^2$ [C$^2$/s]\", labelpad=12)\n",
    "\n",
    "ax[\"K\"].set_ylabel(\"depth [m]\")\n",
    "ax[\"chi\"].set_xscale(\"log\")\n",
    "ax[\"chi\"].xaxis.grid(True, which=\"both\")\n",
    "f.legend(loc=\"outside right\")\n",
    "\n",
    "f.set_size_inches((9, 6))\n",
    "f.savefig(\"images/figure4.pdf\")\n",
    "f.savefig(\"images/figure4.png\")"
   ]
  }
 ],
 "metadata": {
  "kernelspec": {
   "display_name": "eddydiff-release",
   "language": "python",
   "name": "conda-env-eddydiff-release-py"
  },
  "language_info": {
   "codemirror_mode": {
    "name": "ipython",
    "version": 3
   },
   "file_extension": ".py",
   "mimetype": "text/x-python",
   "name": "python",
   "nbconvert_exporter": "python",
   "pygments_lexer": "ipython3",
   "version": "3.11.4"
  },
  "widgets": {
   "application/vnd.jupyter.widget-state+json": {
    "state": {},
    "version_major": 2,
    "version_minor": 0
   }
  }
 },
 "nbformat": 4,
 "nbformat_minor": 5
}
